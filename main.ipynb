{
 "cells": [
  {
   "cell_type": "markdown",
   "metadata": {},
   "source": [
    "                 InPoDA : Collecte, Traitement, et Analyse de données de réseaux sociaux (Tweet) \n",
    "\n",
    "                    Projet Groupe : S3 TD1 info 2023/2024\n",
    "                    Projet membres : - MACHTER MASSINISSA    N°étudiant : 22304222\n",
    "                                     - KHAZEM LYNDA          N°étudiant : 22304263"
   ]
  },
  {
   "cell_type": "markdown",
   "metadata": {},
   "source": [
    "![diagramme_qui_decrit_le_fonctionnement_de_InPoDa](diagramme_qui_decrit_le_fonctionnement_de_InPoDa.png)"
   ]
  },
  {
   "cell_type": "markdown",
   "metadata": {},
   "source": [
    "CHARGEMENT DES MODULES : \n",
    "    ici on charge tous les modules dont on a besoin pour charger nos donnee brutes;\n",
    "    on charge egalement le module traitement (P Orienté objet) qu'on a creer , ce module nous sert a modeliser une classe Tweet pour chaque tweet du fichier source.\n"
   ]
  },
  {
   "cell_type": "code",
   "execution_count": 1,
   "metadata": {},
   "outputs": [],
   "source": [
    "# importation des modules \n",
    "import json \n",
    "import traitement\n",
    "import pandas as pd"
   ]
  },
  {
   "cell_type": "markdown",
   "metadata": {},
   "source": [
    "Rq: \n",
    "    pour bien exécuter le projet , il faudra avoir installer le module gradio (pip install gradio) pour pouvoir lancer notre inteface graphique . Installer également \"textblob\" , \"pandas\" et \"json\". \n"
   ]
  },
  {
   "cell_type": "markdown",
   "metadata": {},
   "source": [
    "CHARGEMET ET TRAITEMENT DES DONNEES: \n",
    "    ici on récupere a chaque foit dans le fichier source un tweet au format \"dictionnaire python\", alors pour chaque dictionnaire(chaque tweet) on cree une instance Tweet et on la sauvgarde dans le fichier destination \"zone_atterissage\"(avec tous les traitement et l'extractions des champs dont on a besoin)"
   ]
  },
  {
   "cell_type": "code",
   "execution_count": 2,
   "metadata": {},
   "outputs": [],
   "source": [
    "with open(\"aitweets.json\",\"r\",encoding=\"UTF-8\") as fs,open(\"zone_atterrissage.json\", 'w',encoding=\"UTF-8\") as fd:\n",
    "    for lig in fs :# parcourire le fichier source aitweets.json ligne par ligne \n",
    "        data_tweet=json.loads(lig)# chargement du tweet dans un dictionnaire python\n",
    "        tweet=traitement.Tweet(data_tweet)# creation d'une instance de l'objet Tweet\n",
    "        # faire les traitement de donnees et sauvegarder le traitement(c-ad tous les champs d'un tweet) dans le fichier atterissage \n",
    "        tweet.sauvegarder_dans_la_zone_atterissage(fd)\n"
   ]
  },
  {
   "cell_type": "markdown",
   "metadata": {},
   "source": [
    "ANALYSE DONNEES ET AFFICHAGE DES RESULTAT (Interface graphique):\n",
    "    - on a creer un module analyse avec qui on fait toutes nos operations d'analyse de données.\n",
    "    - on affiche les resultat d'analyse de données en appellant notre module interface qui lance l'interface et laisse le choix a l'utilisateur\n",
    "    de choisir l'option d'analyse .\n",
    "    - on lance l'application graphique "
   ]
  },
  {
   "cell_type": "markdown",
   "metadata": {},
   "source": [
    "Pour pouvoir acceder a l'application graphique de InPoDA , il faut cliquez sur le lien apparait en bas ."
   ]
  },
  {
   "cell_type": "code",
   "execution_count": 3,
   "metadata": {},
   "outputs": [],
   "source": [
    "#importer le module interface\n",
    "import interface"
   ]
  },
  {
   "cell_type": "code",
   "execution_count": 4,
   "metadata": {},
   "outputs": [
    {
     "name": "stdout",
     "output_type": "stream",
     "text": [
      "Running on local URL:  http://127.0.0.1:7860\n",
      "\n",
      "To create a public link, set `share=True` in `launch()`.\n"
     ]
    },
    {
     "data": {
      "text/html": [
       "<div><iframe src=\"http://127.0.0.1:7860/\" width=\"100%\" height=\"500\" allow=\"autoplay; camera; microphone; clipboard-read; clipboard-write;\" frameborder=\"0\" allowfullscreen></iframe></div>"
      ],
      "text/plain": [
       "<IPython.core.display.HTML object>"
      ]
     },
     "metadata": {},
     "output_type": "display_data"
    }
   ],
   "source": [
    "# on demande juste au module interface de lancer l'interface graphique ,\n",
    "# avec la fonction lancement_InPoDA()\n",
    "interface.lancement_InPoDA()"
   ]
  }
 ],
 "metadata": {
  "kernelspec": {
   "display_name": "Python 3",
   "language": "python",
   "name": "python3"
  },
  "language_info": {
   "codemirror_mode": {
    "name": "ipython",
    "version": 3
   },
   "file_extension": ".py",
   "mimetype": "text/x-python",
   "name": "python",
   "nbconvert_exporter": "python",
   "pygments_lexer": "ipython3",
   "version": "3.10.11"
  }
 },
 "nbformat": 4,
 "nbformat_minor": 2
}
